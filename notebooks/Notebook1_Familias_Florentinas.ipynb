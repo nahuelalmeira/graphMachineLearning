{
 "cells": [
  {
   "cell_type": "markdown",
   "metadata": {},
   "source": [
    "<img src=\"./figuras/cropped-Logos-diplomatura-hd-2.png\" width=\"500\"/>"
   ]
  },
  {
   "cell_type": "markdown",
   "metadata": {},
   "source": [
    "<img src=\"./figuras/florencia.jpg\" width=\"500\"/>"
   ]
  },
  {
   "cell_type": "markdown",
   "metadata": {
    "id": "JEIz3KHQJutU"
   },
   "source": [
    "# Ejemplo 1 - Familias florentinas\n",
    "\n",
    "## Nociones básicas de grafos\n",
    "\n",
    "En esta notebook vamos a reforzar algunos conceptos básicos de teoría de grafos vistos en clase, utilizando a modo de ejemplo el dataset \"Familias florentinas\".\n",
    "\n",
    "## Descripción del dataset\n",
    "\n",
    "El dataset consiste en un grafo con 15 nodos y 20 enlaces.\n",
    "\n",
    "Cada nodo representa una familia importante de la Florencia renacentista, identificada por su apellido. Dos nodos están unidos por un enlace si existió algún matrimonio entre miembros de las correspondientes familias.\n",
    "\n",
    "\n",
    "<u>Referencias:</u>\n",
    "\n",
    "- J. F. Padgett and C. K. Ansel, *Robust Action and the Rise of the Medici, 1400-1434*, AJS Volume 98 Number 6 (1993) 1259-1319.\n",
    "\n",
    "- R. L. Breiger, et al., *Cumulated Social Roles: The Duality of Persons and Their Algebras*, Social Networks 8 (1986) 215-256."
   ]
  },
  {
   "cell_type": "markdown",
   "metadata": {},
   "source": [
    "## Configuración inicial"
   ]
  },
  {
   "cell_type": "code",
   "execution_count": 1,
   "metadata": {
    "id": "dq9sj-OUt-aT"
   },
   "outputs": [],
   "source": [
    "import numpy as np\n",
    "import pandas as pd\n",
    "import networkx as nx\n",
    "import matplotlib.pyplot as plt\n",
    "import seaborn as sns\n",
    "%matplotlib inline\n",
    "\n",
    "sns.set_context('talk')\n",
    "\n",
    "import warnings\n",
    "warnings.simplefilter(action='ignore', category=FutureWarning)"
   ]
  },
  {
   "cell_type": "markdown",
   "metadata": {},
   "source": [
    "## Importamos el grafo"
   ]
  },
  {
   "cell_type": "code",
   "execution_count": 2,
   "metadata": {
    "colab": {
     "base_uri": "https://localhost:8080/"
    },
    "id": "mpFNwSd1uCUH",
    "outputId": "137382ab-ecac-461c-dd52-d96287708f27"
   },
   "outputs": [
    {
     "name": "stdout",
     "output_type": "stream",
     "text": [
      "Cantidad de nodos: 15\n",
      "Cantidad de links: 20\n"
     ]
    }
   ],
   "source": [
    "G = nx.florentine_families_graph()\n",
    "print(f'Cantidad de nodos: {G.number_of_nodes()}')\n",
    "print(f'Cantidad de links: {G.number_of_edges()}')"
   ]
  },
  {
   "cell_type": "markdown",
   "metadata": {
    "id": "G7Fy90KVDrdN"
   },
   "source": [
    "## Representación del grafo"
   ]
  },
  {
   "cell_type": "markdown",
   "metadata": {
    "id": "WGfszm6FD0tL"
   },
   "source": [
    "### Matriz de adyacencia\n",
    "\n",
    "En un grafo simple y no pesado, la matriz de adyacencia se define de la siguiente forma\n",
    "\n",
    "$$\n",
    "A_{ij} = \n",
    "\\begin{cases}\n",
    "1 & \\text{si existe enlace de } i \\text{ a } j \\\\\n",
    "0 & \\text{caso contrario}\n",
    "\\end{cases}\n",
    "$$"
   ]
  },
  {
   "cell_type": "code",
   "execution_count": 3,
   "metadata": {
    "colab": {
     "base_uri": "https://localhost:8080/"
    },
    "id": "d7h1hDen_BUa",
    "outputId": "e89dc421-834e-45a8-924a-856713397443"
   },
   "outputs": [
    {
     "name": "stdout",
     "output_type": "stream",
     "text": [
      "Tipo de dato: <class 'scipy.sparse._csr.csr_matrix'>\n",
      "\n",
      "Matriz de adjacencia\n",
      "\n",
      "A=\n",
      " [[0 1 0 0 0 0 0 0 0 0 0 0 0 0 0]\n",
      " [1 0 0 0 0 1 1 1 1 1 0 0 0 0 0]\n",
      " [0 0 0 1 1 1 0 0 0 0 0 0 0 0 0]\n",
      " [0 0 1 0 1 0 0 0 0 0 0 1 0 0 0]\n",
      " [0 0 1 1 0 0 1 0 0 0 0 1 0 0 0]\n",
      " [0 1 1 0 0 0 0 0 0 0 0 0 0 0 0]\n",
      " [0 1 0 0 1 0 0 1 0 0 0 0 0 0 0]\n",
      " [0 1 0 0 0 0 1 0 0 0 0 0 1 0 0]\n",
      " [0 1 0 0 0 0 0 0 0 0 0 0 1 1 0]\n",
      " [0 1 0 0 0 0 0 0 0 0 1 0 0 0 0]\n",
      " [0 0 0 0 0 0 0 0 0 1 0 0 0 0 0]\n",
      " [0 0 0 1 1 0 0 0 0 0 0 0 1 0 0]\n",
      " [0 0 0 0 0 0 0 1 1 0 0 1 0 0 1]\n",
      " [0 0 0 0 0 0 0 0 1 0 0 0 0 0 0]\n",
      " [0 0 0 0 0 0 0 0 0 0 0 0 1 0 0]]\n"
     ]
    }
   ],
   "source": [
    "A = nx.adjacency_matrix(G)\n",
    "print('Tipo de dato:', type(A), end='\\n\\n')\n",
    "print('Matriz de adjacencia', end='\\n\\n')\n",
    "print('A=\\n', A.todense())"
   ]
  },
  {
   "cell_type": "markdown",
   "metadata": {
    "id": "rmCGU--8D5t5"
   },
   "source": [
    "### Lista de adyacencia\n",
    "\n",
    "Cada elemento de la lista representa a un nodo, y contiene el conjunto de vecinos del mismo."
   ]
  },
  {
   "cell_type": "code",
   "execution_count": 4,
   "metadata": {
    "colab": {
     "base_uri": "https://localhost:8080/"
    },
    "id": "4lWRHYgx_rtz",
    "outputId": "88e2b363-2ac8-49c7-f5e1-ac654fdb76f4"
   },
   "outputs": [
    {
     "name": "stdout",
     "output_type": "stream",
     "text": [
      "Lista de adyacencia\n",
      "\n",
      "Acciaiuoli     {'Medici'}\n",
      "Medici         {'Acciaiuoli', 'Salviati', 'Albizzi', 'Barbadori', 'Tornabuoni', 'Ridolfi'}\n",
      "Castellani     {'Barbadori', 'Strozzi', 'Peruzzi'}\n",
      "Peruzzi        {'Bischeri', 'Castellani', 'Strozzi'}\n",
      "Strozzi        {'Bischeri', 'Castellani', 'Ridolfi', 'Peruzzi'}\n",
      "Barbadori      {'Castellani', 'Medici'}\n",
      "Ridolfi        {'Tornabuoni', 'Strozzi', 'Medici'}\n",
      "Tornabuoni     {'Ridolfi', 'Guadagni', 'Medici'}\n",
      "Albizzi        {'Ginori', 'Guadagni', 'Medici'}\n",
      "Salviati       {'Pazzi', 'Medici'}\n",
      "Pazzi          {'Salviati'}\n",
      "Bischeri       {'Guadagni', 'Strozzi', 'Peruzzi'}\n",
      "Guadagni       {'Albizzi', 'Lamberteschi', 'Bischeri', 'Tornabuoni'}\n",
      "Ginori         {'Albizzi'}\n",
      "Lamberteschi   {'Guadagni'}\n"
     ]
    }
   ],
   "source": [
    "def get_adjacency_list(G):\n",
    "    \"\"\"\n",
    "    Construye la lista de adyacencia del grafo G\n",
    "    \"\"\"\n",
    "    adjlist = []\n",
    "    for v in G.nodes():\n",
    "        neighbor_set = set(list(G.neighbors(v)))\n",
    "        adjlist.append((v, neighbor_set))\n",
    "    return adjlist\n",
    "\n",
    "def print_adjacency_list(adjlist):\n",
    "    \"\"\"\n",
    "    Imprime la lista de adyacencia en pantalla\n",
    "    \"\"\"\n",
    "    for v, neighbors in adjlist:\n",
    "        print(f'{v:14} {neighbors}')\n",
    "\n",
    "adjlist = get_adjacency_list(G)\n",
    "print('Lista de adyacencia', end='\\n\\n')\n",
    "print_adjacency_list(adjlist)"
   ]
  },
  {
   "cell_type": "markdown",
   "metadata": {
    "id": "K3quhqrjD83l"
   },
   "source": [
    "### Visualización"
   ]
  },
  {
   "cell_type": "code",
   "execution_count": 5,
   "metadata": {
    "colab": {
     "base_uri": "https://localhost:8080/",
     "height": 486
    },
    "id": "O_4bc7RquI_J",
    "outputId": "4745794d-a741-4780-a5ef-eb11d334ad00"
   },
   "outputs": [
    {
     "data": {
      "image/png": "[encoded data removed]",
      "text/plain": [
       "<Figure size 1200x800 with 1 Axes>"
      ]
     },
     "metadata": {},
     "output_type": "display_data"
    }
   ],
   "source": [
    "draw_params = dict(\n",
    "    with_labels=True,               ## Incluye los nombres de los nodos\n",
    "    node_color='C1',                ## Elijo el color 1 de la paleta de colores\n",
    "    edge_color='gray',\n",
    "    width=2,                        ## Espesor de los enlaces\n",
    "    font_size=14,\n",
    "    label='Familias florentinas',\n",
    "    pos=nx.kamada_kawai_layout(G)   ## Algoritmo para embeber el grafo en el plano\n",
    ")\n",
    "\n",
    "fig, ax = plt.subplots(figsize=(12,8))\n",
    "ax.set_title('Grafo de las familias florentinas')\n",
    "ax.text(0.7, -0.8, 'Fuente: Padgett (1993)')\n",
    "nx.draw(\n",
    "    G, \n",
    "    ax=ax,\n",
    "    **draw_params\n",
    ")"
   ]
  },
  {
   "cell_type": "markdown",
   "metadata": {
    "id": "oEg0baEhEC43"
   },
   "source": [
    "## Estadística de los nodos"
   ]
  },
  {
   "cell_type": "markdown",
   "metadata": {
    "id": "RjWxUTiAxfkW"
   },
   "source": [
    "Construimos un DataFrame de pandas para almacenar la estadística de los nodos"
   ]
  },
  {
   "cell_type": "code",
   "execution_count": 6,
   "metadata": {
    "colab": {
     "base_uri": "https://localhost:8080/",
     "height": 502
    },
    "id": "ytebwpjHxV5z",
    "outputId": "a8b3fe3a-8ab3-4dd2-dd33-f8a6d0617836"
   },
   "outputs": [
    {
     "data": {
      "text/html": [
       "<div>\n",
       "<style scoped>\n",
       "    .dataframe tbody tr th:only-of-type {\n",
       "        vertical-align: middle;\n",
       "    }\n",
       "\n",
       "    .dataframe tbody tr th {\n",
       "        vertical-align: top;\n",
       "    }\n",
       "\n",
       "    .dataframe thead th {\n",
       "        text-align: right;\n",
       "    }\n",
       "</style>\n",
       "<table border=\"1\" class=\"dataframe\">\n",
       "  <thead>\n",
       "    <tr style=\"text-align: right;\">\n",
       "      <th></th>\n",
       "    </tr>\n",
       "  </thead>\n",
       "  <tbody>\n",
       "    <tr>\n",
       "      <th>Acciaiuoli</th>\n",
       "    </tr>\n",
       "    <tr>\n",
       "      <th>Medici</th>\n",
       "    </tr>\n",
       "    <tr>\n",
       "      <th>Castellani</th>\n",
       "    </tr>\n",
       "    <tr>\n",
       "      <th>Peruzzi</th>\n",
       "    </tr>\n",
       "    <tr>\n",
       "      <th>Strozzi</th>\n",
       "    </tr>\n",
       "    <tr>\n",
       "      <th>Barbadori</th>\n",
       "    </tr>\n",
       "    <tr>\n",
       "      <th>Ridolfi</th>\n",
       "    </tr>\n",
       "    <tr>\n",
       "      <th>Tornabuoni</th>\n",
       "    </tr>\n",
       "    <tr>\n",
       "      <th>Albizzi</th>\n",
       "    </tr>\n",
       "    <tr>\n",
       "      <th>Salviati</th>\n",
       "    </tr>\n",
       "    <tr>\n",
       "      <th>Pazzi</th>\n",
       "    </tr>\n",
       "    <tr>\n",
       "      <th>Bischeri</th>\n",
       "    </tr>\n",
       "    <tr>\n",
       "      <th>Guadagni</th>\n",
       "    </tr>\n",
       "    <tr>\n",
       "      <th>Ginori</th>\n",
       "    </tr>\n",
       "    <tr>\n",
       "      <th>Lamberteschi</th>\n",
       "    </tr>\n",
       "  </tbody>\n",
       "</table>\n",
       "</div>"
      ],
      "text/plain": [
       "Empty DataFrame\n",
       "Columns: []\n",
       "Index: [Acciaiuoli, Medici, Castellani, Peruzzi, Strozzi, Barbadori, Ridolfi, Tornabuoni, Albizzi, Salviati, Pazzi, Bischeri, Guadagni, Ginori, Lamberteschi]"
      ]
     },
     "execution_count": 6,
     "metadata": {},
     "output_type": "execute_result"
    }
   ],
   "source": [
    "df = pd.DataFrame(index=list(G.nodes()))\n",
    "df"
   ]
  },
  {
   "cell_type": "markdown",
   "metadata": {
    "id": "fuc1xTsvQatP"
   },
   "source": [
    "### Distribución de grado"
   ]
  },
  {
   "cell_type": "code",
   "execution_count": 7,
   "metadata": {
    "colab": {
     "base_uri": "https://localhost:8080/"
    },
    "id": "Dpn7j25D9Q0j",
    "outputId": "abddd78a-9dad-4033-96e4-37439514675a"
   },
   "outputs": [
    {
     "name": "stdout",
     "output_type": "stream",
     "text": [
      "[('Acciaiuoli', 1), ('Medici', 6), ('Castellani', 3), ('Peruzzi', 3), ('Strozzi', 4), ('Barbadori', 2), ('Ridolfi', 3), ('Tornabuoni', 3), ('Albizzi', 3), ('Salviati', 2), ('Pazzi', 1), ('Bischeri', 3), ('Guadagni', 4), ('Ginori', 1), ('Lamberteschi', 1)]\n"
     ]
    }
   ],
   "source": [
    "print(G.degree())"
   ]
  },
  {
   "cell_type": "code",
   "execution_count": 8,
   "metadata": {
    "id": "QYtZTH_UvJ-Z"
   },
   "outputs": [
    {
     "data": {
      "text/html": [
       "<div>\n",
       "<style scoped>\n",
       "    .dataframe tbody tr th:only-of-type {\n",
       "        vertical-align: middle;\n",
       "    }\n",
       "\n",
       "    .dataframe tbody tr th {\n",
       "        vertical-align: top;\n",
       "    }\n",
       "\n",
       "    .dataframe thead th {\n",
       "        text-align: right;\n",
       "    }\n",
       "</style>\n",
       "<table border=\"1\" class=\"dataframe\">\n",
       "  <thead>\n",
       "    <tr style=\"text-align: right;\">\n",
       "      <th></th>\n",
       "      <th>degree</th>\n",
       "    </tr>\n",
       "  </thead>\n",
       "  <tbody>\n",
       "    <tr>\n",
       "      <th>Acciaiuoli</th>\n",
       "      <td>1</td>\n",
       "    </tr>\n",
       "    <tr>\n",
       "      <th>Medici</th>\n",
       "      <td>6</td>\n",
       "    </tr>\n",
       "    <tr>\n",
       "      <th>Castellani</th>\n",
       "      <td>3</td>\n",
       "    </tr>\n",
       "    <tr>\n",
       "      <th>Peruzzi</th>\n",
       "      <td>3</td>\n",
       "    </tr>\n",
       "    <tr>\n",
       "      <th>Strozzi</th>\n",
       "      <td>4</td>\n",
       "    </tr>\n",
       "  </tbody>\n",
       "</table>\n",
       "</div>"
      ],
      "text/plain": [
       "            degree\n",
       "Acciaiuoli       1\n",
       "Medici           6\n",
       "Castellani       3\n",
       "Peruzzi          3\n",
       "Strozzi          4"
      ]
     },
     "execution_count": 8,
     "metadata": {},
     "output_type": "execute_result"
    }
   ],
   "source": [
    "deg_seq = np.array([k for v, k in G.degree()])\n",
    "df['degree'] = deg_seq\n",
    "df.head()"
   ]
  },
  {
   "cell_type": "code",
   "execution_count": 9,
   "metadata": {
    "colab": {
     "base_uri": "https://localhost:8080/",
     "height": 430
    },
    "id": "CYVTBgTFyERj",
    "outputId": "de5e3724-b28a-45a5-e779-1c1c3ec68f92"
   },
   "outputs": [
    {
     "data": {
      "image/png": "[encoded data removed]",
      "text/plain": [
       "<Figure size 800x600 with 1 Axes>"
      ]
     },
     "metadata": {},
     "output_type": "display_data"
    }
   ],
   "source": [
    "deg_histo = nx.degree_histogram(G)\n",
    "bins = range(len(deg_histo))\n",
    "\n",
    "fig, ax = plt.subplots(figsize=(8,6))\n",
    "ax.set_title('Distribución de grado')\n",
    "ax.set_xlabel(r'$k$')\n",
    "ax.set_ylabel(r'$p_k$')\n",
    "ax.bar(bins, deg_histo)\n",
    "plt.show()"
   ]
  },
  {
   "cell_type": "markdown",
   "metadata": {
    "tags": []
   },
   "source": [
    "### Coeficiente de clustering (transitividad)"
   ]
  },
  {
   "cell_type": "code",
   "execution_count": 10,
   "metadata": {},
   "outputs": [],
   "source": [
    "clustering_coefficient = nx.clustering(G)\n",
    "df['Cws'] = list(clustering_coefficient.values())"
   ]
  },
  {
   "cell_type": "code",
   "execution_count": 11,
   "metadata": {},
   "outputs": [
    {
     "data": {
      "text/html": [
       "<div>\n",
       "<style scoped>\n",
       "    .dataframe tbody tr th:only-of-type {\n",
       "        vertical-align: middle;\n",
       "    }\n",
       "\n",
       "    .dataframe tbody tr th {\n",
       "        vertical-align: top;\n",
       "    }\n",
       "\n",
       "    .dataframe thead th {\n",
       "        text-align: right;\n",
       "    }\n",
       "</style>\n",
       "<table border=\"1\" class=\"dataframe\">\n",
       "  <thead>\n",
       "    <tr style=\"text-align: right;\">\n",
       "      <th></th>\n",
       "      <th>degree</th>\n",
       "      <th>Cws</th>\n",
       "    </tr>\n",
       "  </thead>\n",
       "  <tbody>\n",
       "    <tr>\n",
       "      <th>Acciaiuoli</th>\n",
       "      <td>1</td>\n",
       "      <td>0.000000</td>\n",
       "    </tr>\n",
       "    <tr>\n",
       "      <th>Medici</th>\n",
       "      <td>6</td>\n",
       "      <td>0.066667</td>\n",
       "    </tr>\n",
       "    <tr>\n",
       "      <th>Castellani</th>\n",
       "      <td>3</td>\n",
       "      <td>0.333333</td>\n",
       "    </tr>\n",
       "    <tr>\n",
       "      <th>Peruzzi</th>\n",
       "      <td>3</td>\n",
       "      <td>0.666667</td>\n",
       "    </tr>\n",
       "    <tr>\n",
       "      <th>Strozzi</th>\n",
       "      <td>4</td>\n",
       "      <td>0.333333</td>\n",
       "    </tr>\n",
       "    <tr>\n",
       "      <th>Barbadori</th>\n",
       "      <td>2</td>\n",
       "      <td>0.000000</td>\n",
       "    </tr>\n",
       "    <tr>\n",
       "      <th>Ridolfi</th>\n",
       "      <td>3</td>\n",
       "      <td>0.333333</td>\n",
       "    </tr>\n",
       "    <tr>\n",
       "      <th>Tornabuoni</th>\n",
       "      <td>3</td>\n",
       "      <td>0.333333</td>\n",
       "    </tr>\n",
       "    <tr>\n",
       "      <th>Albizzi</th>\n",
       "      <td>3</td>\n",
       "      <td>0.000000</td>\n",
       "    </tr>\n",
       "    <tr>\n",
       "      <th>Salviati</th>\n",
       "      <td>2</td>\n",
       "      <td>0.000000</td>\n",
       "    </tr>\n",
       "    <tr>\n",
       "      <th>Pazzi</th>\n",
       "      <td>1</td>\n",
       "      <td>0.000000</td>\n",
       "    </tr>\n",
       "    <tr>\n",
       "      <th>Bischeri</th>\n",
       "      <td>3</td>\n",
       "      <td>0.333333</td>\n",
       "    </tr>\n",
       "    <tr>\n",
       "      <th>Guadagni</th>\n",
       "      <td>4</td>\n",
       "      <td>0.000000</td>\n",
       "    </tr>\n",
       "    <tr>\n",
       "      <th>Ginori</th>\n",
       "      <td>1</td>\n",
       "      <td>0.000000</td>\n",
       "    </tr>\n",
       "    <tr>\n",
       "      <th>Lamberteschi</th>\n",
       "      <td>1</td>\n",
       "      <td>0.000000</td>\n",
       "    </tr>\n",
       "  </tbody>\n",
       "</table>\n",
       "</div>"
      ],
      "text/plain": [
       "              degree       Cws\n",
       "Acciaiuoli         1  0.000000\n",
       "Medici             6  0.066667\n",
       "Castellani         3  0.333333\n",
       "Peruzzi            3  0.666667\n",
       "Strozzi            4  0.333333\n",
       "Barbadori          2  0.000000\n",
       "Ridolfi            3  0.333333\n",
       "Tornabuoni         3  0.333333\n",
       "Albizzi            3  0.000000\n",
       "Salviati           2  0.000000\n",
       "Pazzi              1  0.000000\n",
       "Bischeri           3  0.333333\n",
       "Guadagni           4  0.000000\n",
       "Ginori             1  0.000000\n",
       "Lamberteschi       1  0.000000"
      ]
     },
     "execution_count": 11,
     "metadata": {},
     "output_type": "execute_result"
    }
   ],
   "source": [
    "df"
   ]
  },
  {
   "cell_type": "markdown",
   "metadata": {
    "id": "-OHr-WiFQdjx"
   },
   "source": [
    "### Centralidad"
   ]
  },
  {
   "cell_type": "code",
   "execution_count": 12,
   "metadata": {},
   "outputs": [],
   "source": [
    "from utils import get_CI_nx"
   ]
  },
  {
   "cell_type": "code",
   "execution_count": 13,
   "metadata": {
    "id": "67crFEa378ZH"
   },
   "outputs": [],
   "source": [
    "betweenness = nx.betweenness_centrality(G)\n",
    "eigenvector = nx.eigenvector_centrality_numpy(G)  # Es más rápido que nx.eigenvector_centrality()\n",
    "closeness = nx.closeness_centrality(G)\n",
    "katz = nx.katz_centrality_numpy(G)  # Es más rápido que nx.eigenvector_centrality()\n",
    "pagerank = nx.pagerank(G)\n",
    "collective_influence = get_CI_nx(G)\n",
    "\n",
    "df['betweenness'] = list(betweenness.values())\n",
    "df['eigenvector'] = list(eigenvector.values())\n",
    "df['closeness'] = list(closeness.values())\n",
    "df['katz'] = list(katz.values())\n",
    "df['pagerank'] = list(pagerank.values())\n",
    "df['CI'] = collective_influence"
   ]
  },
  {
   "cell_type": "code",
   "execution_count": 14,
   "metadata": {
    "colab": {
     "base_uri": "https://localhost:8080/",
     "height": 520
    },
    "id": "VZtO4d0f9iFV",
    "outputId": "c144f9a1-93e7-45c0-88bc-8121ce515df2"
   },
   "outputs": [
    {
     "data": {
      "text/html": [
       "<div>\n",
       "<style scoped>\n",
       "    .dataframe tbody tr th:only-of-type {\n",
       "        vertical-align: middle;\n",
       "    }\n",
       "\n",
       "    .dataframe tbody tr th {\n",
       "        vertical-align: top;\n",
       "    }\n",
       "\n",
       "    .dataframe thead th {\n",
       "        text-align: right;\n",
       "    }\n",
       "</style>\n",
       "<table border=\"1\" class=\"dataframe\">\n",
       "  <thead>\n",
       "    <tr style=\"text-align: right;\">\n",
       "      <th></th>\n",
       "      <th>degree</th>\n",
       "      <th>Cws</th>\n",
       "      <th>betweenness</th>\n",
       "      <th>eigenvector</th>\n",
       "      <th>closeness</th>\n",
       "      <th>katz</th>\n",
       "      <th>pagerank</th>\n",
       "      <th>CI</th>\n",
       "    </tr>\n",
       "  </thead>\n",
       "  <tbody>\n",
       "    <tr>\n",
       "      <th>Acciaiuoli</th>\n",
       "      <td>1</td>\n",
       "      <td>0.000000</td>\n",
       "      <td>0.000000</td>\n",
       "      <td>0.132154</td>\n",
       "      <td>0.368421</td>\n",
       "      <td>0.216481</td>\n",
       "      <td>0.030657</td>\n",
       "      <td>0</td>\n",
       "    </tr>\n",
       "    <tr>\n",
       "      <th>Medici</th>\n",
       "      <td>6</td>\n",
       "      <td>0.066667</td>\n",
       "      <td>0.521978</td>\n",
       "      <td>0.430308</td>\n",
       "      <td>0.560000</td>\n",
       "      <td>0.333825</td>\n",
       "      <td>0.145818</td>\n",
       "      <td>40</td>\n",
       "    </tr>\n",
       "    <tr>\n",
       "      <th>Castellani</th>\n",
       "      <td>3</td>\n",
       "      <td>0.333333</td>\n",
       "      <td>0.054945</td>\n",
       "      <td>0.259026</td>\n",
       "      <td>0.388889</td>\n",
       "      <td>0.262871</td>\n",
       "      <td>0.069330</td>\n",
       "      <td>12</td>\n",
       "    </tr>\n",
       "    <tr>\n",
       "      <th>Peruzzi</th>\n",
       "      <td>3</td>\n",
       "      <td>0.666667</td>\n",
       "      <td>0.021978</td>\n",
       "      <td>0.275730</td>\n",
       "      <td>0.368421</td>\n",
       "      <td>0.265080</td>\n",
       "      <td>0.067875</td>\n",
       "      <td>14</td>\n",
       "    </tr>\n",
       "    <tr>\n",
       "      <th>Strozzi</th>\n",
       "      <td>4</td>\n",
       "      <td>0.333333</td>\n",
       "      <td>0.102564</td>\n",
       "      <td>0.355980</td>\n",
       "      <td>0.437500</td>\n",
       "      <td>0.289870</td>\n",
       "      <td>0.088098</td>\n",
       "      <td>24</td>\n",
       "    </tr>\n",
       "    <tr>\n",
       "      <th>Barbadori</th>\n",
       "      <td>2</td>\n",
       "      <td>0.000000</td>\n",
       "      <td>0.093407</td>\n",
       "      <td>0.211705</td>\n",
       "      <td>0.437500</td>\n",
       "      <td>0.242768</td>\n",
       "      <td>0.050301</td>\n",
       "      <td>7</td>\n",
       "    </tr>\n",
       "    <tr>\n",
       "      <th>Ridolfi</th>\n",
       "      <td>3</td>\n",
       "      <td>0.333333</td>\n",
       "      <td>0.113553</td>\n",
       "      <td>0.341553</td>\n",
       "      <td>0.500000</td>\n",
       "      <td>0.272691</td>\n",
       "      <td>0.069574</td>\n",
       "      <td>20</td>\n",
       "    </tr>\n",
       "    <tr>\n",
       "      <th>Tornabuoni</th>\n",
       "      <td>3</td>\n",
       "      <td>0.333333</td>\n",
       "      <td>0.091575</td>\n",
       "      <td>0.325842</td>\n",
       "      <td>0.482759</td>\n",
       "      <td>0.272228</td>\n",
       "      <td>0.071279</td>\n",
       "      <td>20</td>\n",
       "    </tr>\n",
       "    <tr>\n",
       "      <th>Albizzi</th>\n",
       "      <td>3</td>\n",
       "      <td>0.000000</td>\n",
       "      <td>0.212454</td>\n",
       "      <td>0.243956</td>\n",
       "      <td>0.482759</td>\n",
       "      <td>0.265928</td>\n",
       "      <td>0.079122</td>\n",
       "      <td>16</td>\n",
       "    </tr>\n",
       "    <tr>\n",
       "      <th>Salviati</th>\n",
       "      <td>2</td>\n",
       "      <td>0.000000</td>\n",
       "      <td>0.142857</td>\n",
       "      <td>0.145917</td>\n",
       "      <td>0.388889</td>\n",
       "      <td>0.237163</td>\n",
       "      <td>0.061303</td>\n",
       "      <td>5</td>\n",
       "    </tr>\n",
       "    <tr>\n",
       "      <th>Pazzi</th>\n",
       "      <td>1</td>\n",
       "      <td>0.000000</td>\n",
       "      <td>0.000000</td>\n",
       "      <td>0.044813</td>\n",
       "      <td>0.285714</td>\n",
       "      <td>0.206815</td>\n",
       "      <td>0.036054</td>\n",
       "      <td>0</td>\n",
       "    </tr>\n",
       "    <tr>\n",
       "      <th>Bischeri</th>\n",
       "      <td>3</td>\n",
       "      <td>0.333333</td>\n",
       "      <td>0.104396</td>\n",
       "      <td>0.282800</td>\n",
       "      <td>0.400000</td>\n",
       "      <td>0.267072</td>\n",
       "      <td>0.068862</td>\n",
       "      <td>16</td>\n",
       "    </tr>\n",
       "    <tr>\n",
       "      <th>Guadagni</th>\n",
       "      <td>4</td>\n",
       "      <td>0.000000</td>\n",
       "      <td>0.254579</td>\n",
       "      <td>0.289116</td>\n",
       "      <td>0.466667</td>\n",
       "      <td>0.284779</td>\n",
       "      <td>0.098399</td>\n",
       "      <td>18</td>\n",
       "    </tr>\n",
       "    <tr>\n",
       "      <th>Ginori</th>\n",
       "      <td>1</td>\n",
       "      <td>0.000000</td>\n",
       "      <td>0.000000</td>\n",
       "      <td>0.074923</td>\n",
       "      <td>0.333333</td>\n",
       "      <td>0.209692</td>\n",
       "      <td>0.032418</td>\n",
       "      <td>0</td>\n",
       "    </tr>\n",
       "    <tr>\n",
       "      <th>Lamberteschi</th>\n",
       "      <td>1</td>\n",
       "      <td>0.000000</td>\n",
       "      <td>0.000000</td>\n",
       "      <td>0.088792</td>\n",
       "      <td>0.325581</td>\n",
       "      <td>0.211577</td>\n",
       "      <td>0.030909</td>\n",
       "      <td>0</td>\n",
       "    </tr>\n",
       "  </tbody>\n",
       "</table>\n",
       "</div>"
      ],
      "text/plain": [
       "              degree       Cws  betweenness  eigenvector  closeness      katz  \\\n",
       "Acciaiuoli         1  0.000000     0.000000     0.132154   0.368421  0.216481   \n",
       "Medici             6  0.066667     0.521978     0.430308   0.560000  0.333825   \n",
       "Castellani         3  0.333333     0.054945     0.259026   0.388889  0.262871   \n",
       "Peruzzi            3  0.666667     0.021978     0.275730   0.368421  0.265080   \n",
       "Strozzi            4  0.333333     0.102564     0.355980   0.437500  0.289870   \n",
       "Barbadori          2  0.000000     0.093407     0.211705   0.437500  0.242768   \n",
       "Ridolfi            3  0.333333     0.113553     0.341553   0.500000  0.272691   \n",
       "Tornabuoni         3  0.333333     0.091575     0.325842   0.482759  0.272228   \n",
       "Albizzi            3  0.000000     0.212454     0.243956   0.482759  0.265928   \n",
       "Salviati           2  0.000000     0.142857     0.145917   0.388889  0.237163   \n",
       "Pazzi              1  0.000000     0.000000     0.044813   0.285714  0.206815   \n",
       "Bischeri           3  0.333333     0.104396     0.282800   0.400000  0.267072   \n",
       "Guadagni           4  0.000000     0.254579     0.289116   0.466667  0.284779   \n",
       "Ginori             1  0.000000     0.000000     0.074923   0.333333  0.209692   \n",
       "Lamberteschi       1  0.000000     0.000000     0.088792   0.325581  0.211577   \n",
       "\n",
       "              pagerank  CI  \n",
       "Acciaiuoli    0.030657   0  \n",
       "Medici        0.145818  40  \n",
       "Castellani    0.069330  12  \n",
       "Peruzzi       0.067875  14  \n",
       "Strozzi       0.088098  24  \n",
       "Barbadori     0.050301   7  \n",
       "Ridolfi       0.069574  20  \n",
       "Tornabuoni    0.071279  20  \n",
       "Albizzi       0.079122  16  \n",
       "Salviati      0.061303   5  \n",
       "Pazzi         0.036054   0  \n",
       "Bischeri      0.068862  16  \n",
       "Guadagni      0.098399  18  \n",
       "Ginori        0.032418   0  \n",
       "Lamberteschi  0.030909   0  "
      ]
     },
     "execution_count": 14,
     "metadata": {},
     "output_type": "execute_result"
    }
   ],
   "source": [
    "df"
   ]
  },
  {
   "cell_type": "code",
   "execution_count": 15,
   "metadata": {
    "colab": {
     "base_uri": "https://localhost:8080/",
     "height": 143
    },
    "id": "LiXVA3FeHnx_",
    "outputId": "fc768549-dc53-4204-f34e-9a577d3a16be"
   },
   "outputs": [
    {
     "data": {
      "text/html": [
       "<div>\n",
       "<style scoped>\n",
       "    .dataframe tbody tr th:only-of-type {\n",
       "        vertical-align: middle;\n",
       "    }\n",
       "\n",
       "    .dataframe tbody tr th {\n",
       "        vertical-align: top;\n",
       "    }\n",
       "\n",
       "    .dataframe thead th {\n",
       "        text-align: right;\n",
       "    }\n",
       "</style>\n",
       "<table border=\"1\" class=\"dataframe\">\n",
       "  <thead>\n",
       "    <tr style=\"text-align: right;\">\n",
       "      <th></th>\n",
       "      <th>degree</th>\n",
       "      <th>eigenvector</th>\n",
       "      <th>katz</th>\n",
       "      <th>pagerank</th>\n",
       "      <th>closeness</th>\n",
       "      <th>betweenness</th>\n",
       "      <th>CI</th>\n",
       "    </tr>\n",
       "  </thead>\n",
       "  <tbody>\n",
       "    <tr>\n",
       "      <th>0</th>\n",
       "      <td>Medici</td>\n",
       "      <td>Medici</td>\n",
       "      <td>Medici</td>\n",
       "      <td>Medici</td>\n",
       "      <td>Medici</td>\n",
       "      <td>Medici</td>\n",
       "      <td>Medici</td>\n",
       "    </tr>\n",
       "    <tr>\n",
       "      <th>1</th>\n",
       "      <td>Strozzi</td>\n",
       "      <td>Strozzi</td>\n",
       "      <td>Strozzi</td>\n",
       "      <td>Guadagni</td>\n",
       "      <td>Ridolfi</td>\n",
       "      <td>Guadagni</td>\n",
       "      <td>Strozzi</td>\n",
       "    </tr>\n",
       "    <tr>\n",
       "      <th>2</th>\n",
       "      <td>Guadagni</td>\n",
       "      <td>Ridolfi</td>\n",
       "      <td>Guadagni</td>\n",
       "      <td>Strozzi</td>\n",
       "      <td>Tornabuoni</td>\n",
       "      <td>Albizzi</td>\n",
       "      <td>Ridolfi</td>\n",
       "    </tr>\n",
       "  </tbody>\n",
       "</table>\n",
       "</div>"
      ],
      "text/plain": [
       "     degree eigenvector      katz  pagerank   closeness betweenness       CI\n",
       "0    Medici      Medici    Medici    Medici      Medici      Medici   Medici\n",
       "1   Strozzi     Strozzi   Strozzi  Guadagni     Ridolfi    Guadagni  Strozzi\n",
       "2  Guadagni     Ridolfi  Guadagni   Strozzi  Tornabuoni     Albizzi  Ridolfi"
      ]
     },
     "execution_count": 15,
     "metadata": {},
     "output_type": "execute_result"
    }
   ],
   "source": [
    "columns = ['degree', 'eigenvector', 'katz', 'pagerank', 'closeness', 'betweenness', 'CI']\n",
    "data = {}\n",
    "for col in columns:\n",
    "    top_families = df.nlargest(3, columns=[col])[col].index\n",
    "    data[col] = top_families\n",
    "pd.DataFrame(data)"
   ]
  },
  {
   "cell_type": "markdown",
   "metadata": {
    "id": "0nM3VvbNx7Hx"
   },
   "source": [
    "Volvemos a graficar, incorporando información sobre nodos y enlaces en el gráfico"
   ]
  },
  {
   "cell_type": "code",
   "execution_count": 16,
   "metadata": {
    "colab": {
     "base_uri": "https://localhost:8080/",
     "height": 466
    },
    "id": "420DyDUh98nF",
    "outputId": "78ce5d67-0890-4faf-c5b0-c933305468c9"
   },
   "outputs": [
    {
     "data": {
      "image/png": "[encoded data removed]",
      "text/plain": [
       "<Figure size 1200x800 with 1 Axes>"
      ]
     },
     "metadata": {},
     "output_type": "display_data"
    }
   ],
   "source": [
    "edge_betweenness = np.array(list(nx.edge_betweenness(G).values()))\n",
    "\n",
    "draw_params['width'] = 20*edge_betweenness\n",
    "draw_params['node_size'] = 200*df['degree']\n",
    "\n",
    "fig, ax = plt.subplots(figsize=(12,8))\n",
    "nx.draw(\n",
    "    G, \n",
    "    ax=ax,\n",
    "    **draw_params\n",
    ")"
   ]
  },
  {
   "cell_type": "markdown",
   "metadata": {},
   "source": [
    "### Atributos en NetworkX\n",
    "\n",
    "En lugar de construir un `DataFrame` de `pandas`, podemos utilizar los atributos de `NetworkX` para almacenar los features de los nodos."
   ]
  },
  {
   "cell_type": "code",
   "execution_count": 17,
   "metadata": {
    "id": "014Tzb6fIkHv"
   },
   "outputs": [],
   "source": [
    "attributes_map = {\n",
    "    'betweenness': nx.betweenness_centrality,\n",
    "    'eigenvector': nx.eigenvector_centrality\n",
    "}\n",
    "for attribute, attr_method in attributes_map.items():\n",
    "    attr_values = attr_method(G)\n",
    "    nx.set_node_attributes(G, attr_values, attribute)"
   ]
  },
  {
   "cell_type": "code",
   "execution_count": 18,
   "metadata": {
    "colab": {
     "base_uri": "https://localhost:8080/"
    },
    "id": "lMba8i77wwy_",
    "outputId": "0aef58b6-49ee-471c-b0fd-09a591fee3a6"
   },
   "outputs": [
    {
     "data": {
      "text/plain": [
       "{'Acciaiuoli': 0.0,\n",
       " 'Medici': 0.521978021978022,\n",
       " 'Castellani': 0.05494505494505495,\n",
       " 'Peruzzi': 0.02197802197802198,\n",
       " 'Strozzi': 0.10256410256410257,\n",
       " 'Barbadori': 0.09340659340659341,\n",
       " 'Ridolfi': 0.11355311355311355,\n",
       " 'Tornabuoni': 0.09157509157509157,\n",
       " 'Albizzi': 0.21245421245421245,\n",
       " 'Salviati': 0.14285714285714288,\n",
       " 'Pazzi': 0.0,\n",
       " 'Bischeri': 0.1043956043956044,\n",
       " 'Guadagni': 0.2545787545787546,\n",
       " 'Ginori': 0.0,\n",
       " 'Lamberteschi': 0.0}"
      ]
     },
     "execution_count": 18,
     "metadata": {},
     "output_type": "execute_result"
    }
   ],
   "source": [
    "nx.get_node_attributes(G, 'betweenness')"
   ]
  },
  {
   "cell_type": "code",
   "execution_count": null,
   "metadata": {},
   "outputs": [],
   "source": []
  }
 ],
 "metadata": {
  "colab": {
   "collapsed_sections": [],
   "name": "Ejemplo1 - Familias Florentinas.ipynb",
   "provenance": [],
   "toc_visible": true
  },
  "kernelspec": {
   "display_name": "Python 3.9.7 ('graphML')",
   "language": "python",
   "name": "python3"
  },
  "language_info": {
   "codemirror_mode": {
    "name": "ipython",
    "version": 3
   },
   "file_extension": ".py",
   "mimetype": "text/x-python",
   "name": "python",
   "nbconvert_exporter": "python",
   "pygments_lexer": "ipython3",
   "version": "3.10.8"
  },
  "vscode": {
   "interpreter": {
    "hash": "8d7acc4dc437111e8490236920a60e1a4ee1305942f3604eb0e25bca4448a2fc"
   }
  }
 },
 "nbformat": 4,
 "nbformat_minor": 4
}
